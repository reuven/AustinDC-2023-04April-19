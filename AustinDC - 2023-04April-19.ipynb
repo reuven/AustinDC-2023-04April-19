{
 "cells": [
  {
   "cell_type": "markdown",
   "metadata": {},
   "source": [
    "# Agenda\n",
    "\n",
    "1. What is the problem we're trying to solve?\n",
    "2. How can we solve it poorly?\n",
    "3. What does `argparse` bring to the table?\n",
    "4. Mandatory arguments\n",
    "5. Default values\n",
    "6. Keyword arguments\n",
    "7. Options\n",
    "8. Files"
   ]
  },
  {
   "cell_type": "code",
   "execution_count": null,
   "metadata": {},
   "outputs": [],
   "source": []
  }
 ],
 "metadata": {
  "kernelspec": {
   "display_name": "Python 3 (ipykernel)",
   "language": "python",
   "name": "python3"
  },
  "language_info": {
   "codemirror_mode": {
    "name": "ipython",
    "version": 3
   },
   "file_extension": ".py",
   "mimetype": "text/x-python",
   "name": "python",
   "nbconvert_exporter": "python",
   "pygments_lexer": "ipython3",
   "version": "3.11.3"
  }
 },
 "nbformat": 4,
 "nbformat_minor": 4
}
