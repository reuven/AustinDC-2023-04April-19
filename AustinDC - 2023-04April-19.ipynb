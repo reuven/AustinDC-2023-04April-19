{
 "cells": [
  {
   "cell_type": "markdown",
   "metadata": {},
   "source": [
    "# Agenda\n",
    "\n",
    "1. What is the problem we're trying to solve?\n",
    "2. How can we solve it poorly?\n",
    "3. What does `argparse` bring to the table?\n",
    "4. Mandatory arguments\n",
    "5. Default values\n",
    "6. Keyword arguments\n",
    "7. Options\n",
    "8. Files"
   ]
  },
  {
   "cell_type": "markdown",
   "metadata": {},
   "source": [
    "# The problem\n",
    "\n",
    "If I write a Python program that wants to get input from the command line, how do I do that?\n",
    "\n",
    "We're used to writing programs that take arguments\n",
    "\n",
    "    cd /tmp\n",
    "    \n",
    "or\n",
    "\n",
    "    ls /home\n",
    "    \n",
    "or even\n",
    "\n",
    "    ls -l -F -d /home\n",
    "    \n",
    "or, equivalently, I can say:\n",
    "\n",
    "    ls -d -l -F /home\n",
    "    \n",
    "How can we pull this off in our Python programs?    "
   ]
  },
  {
   "cell_type": "markdown",
   "metadata": {},
   "source": [
    "# I'll just check `sys.argv`\n",
    "\n",
    "In C, we have `argv` (the vector containing the argument strings) and `argc` (the integer indicating how many strings there are).\n",
    "\n",
    "In Python, the equivalent is `sys.argv`.\n",
    "\n",
    "Good news with `sys.argv`:\n",
    "- It's easy to use (for simple cases)\n",
    "- We don't need to write much code\n",
    "- Everything comes in as a string\n",
    "- We let the shell do its thing with combining arguments using quotes, etc.\n",
    "\n",
    "But there's also bad news:\n",
    "- What if we want to have arguments in any order?  Very messy.\n",
    "- What if we want to ensure that an argument has one of several specific values?\n",
    "- What if we want to have arguments take values, as in `-a 5` vs. `-a 7`?\n",
    "\n",
    "That's where `argparse` comes in. It reads `sys.argv` on our behalf, and then provides us with a parser that can let us work with the arguments at a higher level."
   ]
  },
  {
   "cell_type": "markdown",
   "metadata": {},
   "source": [
    "# Grabbing arguments\n",
    "\n",
    "1. Create a parser\n",
    "2. Add one or more *positional* arguments\n",
    "3. Any positional argument can be retrieved as an attribute"
   ]
  },
  {
   "cell_type": "markdown",
   "metadata": {},
   "source": []
  }
 ],
 "metadata": {
  "kernelspec": {
   "display_name": "Python 3 (ipykernel)",
   "language": "python",
   "name": "python3"
  },
  "language_info": {
   "codemirror_mode": {
    "name": "ipython",
    "version": 3
   },
   "file_extension": ".py",
   "mimetype": "text/x-python",
   "name": "python",
   "nbconvert_exporter": "python",
   "pygments_lexer": "ipython3",
   "version": "3.11.3"
  }
 },
 "nbformat": 4,
 "nbformat_minor": 4
}
