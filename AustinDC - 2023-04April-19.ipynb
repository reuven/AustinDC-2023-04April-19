{
 "cells": [
  {
   "cell_type": "markdown",
   "metadata": {},
   "source": [
    "# Agenda\n",
    "\n",
    "1. What is the problem we're trying to solve?\n",
    "2. How can we solve it poorly?\n",
    "3. What does `argparse` bring to the table?\n",
    "4. Mandatory arguments\n",
    "5. Default values\n",
    "6. Keyword arguments\n",
    "7. Options\n",
    "8. Files"
   ]
  },
  {
   "cell_type": "markdown",
   "metadata": {},
   "source": [
    "# The problem\n",
    "\n",
    "If I write a Python program that wants to get input from the command line, how do I do that?\n",
    "\n",
    "We're used to writing programs that take arguments\n",
    "\n",
    "    cd /tmp\n",
    "    \n",
    "or\n",
    "\n",
    "    ls /home\n",
    "    \n",
    "or even\n",
    "\n",
    "    ls -l -F -d /home\n",
    "    \n",
    "or, equivalently, I can say:\n",
    "\n",
    "    ls -d -l -F /home\n",
    "    \n",
    "How can we pull this off in our Python programs?    "
   ]
  },
  {
   "cell_type": "markdown",
   "metadata": {},
   "source": [
    "# I'll just check `sys.argv`\n",
    "\n",
    "In C, we have `argv` (the vector containing the argument strings) and `argc` (the integer indicating how many strings there are).\n",
    "\n",
    "In Python, the equivalent is `sys.argv`.\n",
    "\n",
    "Good news with `sys.argv`:\n",
    "- It's easy to use (for simple cases)\n",
    "- We don't need to write much code\n",
    "- Everything comes in as a string\n"
   ]
  },
  {
   "cell_type": "code",
   "execution_count": null,
   "metadata": {},
   "outputs": [],
   "source": []
  }
 ],
 "metadata": {
  "kernelspec": {
   "display_name": "Python 3 (ipykernel)",
   "language": "python",
   "name": "python3"
  },
  "language_info": {
   "codemirror_mode": {
    "name": "ipython",
    "version": 3
   },
   "file_extension": ".py",
   "mimetype": "text/x-python",
   "name": "python",
   "nbconvert_exporter": "python",
   "pygments_lexer": "ipython3",
   "version": "3.11.3"
  }
 },
 "nbformat": 4,
 "nbformat_minor": 4
}
